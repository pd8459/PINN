{
  "nbformat": 4,
  "nbformat_minor": 0,
  "metadata": {
    "colab": {
      "provenance": [],
      "gpuType": "T4",
      "authorship_tag": "ABX9TyOP7J31vPMj75Ptu6+O5aRd",
      "include_colab_link": true
    },
    "kernelspec": {
      "name": "python3",
      "display_name": "Python 3"
    },
    "language_info": {
      "name": "python"
    },
    "accelerator": "GPU"
  },
  "cells": [
    {
      "cell_type": "markdown",
      "metadata": {
        "id": "view-in-github",
        "colab_type": "text"
      },
      "source": [
        "<a href=\"https://colab.research.google.com/github/pd8459/PINN/blob/main/PINN.ipynb\" target=\"_parent\"><img src=\"https://colab.research.google.com/assets/colab-badge.svg\" alt=\"Open In Colab\"/></a>"
      ]
    },
    {
      "cell_type": "code",
      "execution_count": null,
      "metadata": {
        "id": "O8nj_ehL6Bmw"
      },
      "outputs": [],
      "source": [
        "import math\n",
        "import torch\n",
        "import matplotlib.pyplot as plt\n",
        "import numpy as np\n",
        "import pandas as pd\n",
        "import torch.nn as nn\n",
        "import torch.optim as optim"
      ]
    },
    {
      "cell_type": "code",
      "source": [
        "import torchvision\n",
        "import torchvision.transforms as transforms\n",
        "from torch.utils.data import TensorDataset, DataLoader"
      ],
      "metadata": {
        "id": "av2COfDG6FWs"
      },
      "execution_count": null,
      "outputs": []
    },
    {
      "cell_type": "code",
      "source": [
        "device = torch.device(\"cuda:0\" if torch.cuda.is_available() else \"cpu\")\n",
        "print(device)"
      ],
      "metadata": {
        "colab": {
          "base_uri": "https://localhost:8080/"
        },
        "id": "IOBCqjVl6Ggr",
        "outputId": "3c9a13b2-6479-4274-e025-12a859ac2ad0"
      },
      "execution_count": null,
      "outputs": [
        {
          "output_type": "stream",
          "name": "stdout",
          "text": [
            "cuda:0\n"
          ]
        }
      ]
    },
    {
      "cell_type": "code",
      "source": [
        "from google.colab import drive\n",
        "drive.mount('/content/drive')"
      ],
      "metadata": {
        "colab": {
          "base_uri": "https://localhost:8080/"
        },
        "id": "gK3BLTt66H0s",
        "outputId": "c7db6d89-0e1b-49f8-d09c-da432ce5ad0c"
      },
      "execution_count": null,
      "outputs": [
        {
          "output_type": "stream",
          "name": "stdout",
          "text": [
            "Mounted at /content/drive\n"
          ]
        }
      ]
    },
    {
      "cell_type": "code",
      "source": [
        "data = pd.read_excel('/content/drive/MyDrive/PINN_ex1.xlsx')"
      ],
      "metadata": {
        "id": "XlZRK-yk6JlM"
      },
      "execution_count": null,
      "outputs": []
    },
    {
      "cell_type": "code",
      "source": [
        "train_time = 40\n",
        "x_train = torch.Tensor(data.loc[:train_time,'time'].values).reshape(-1,1).to(device)\n",
        "y_train = torch.Tensor(data.loc[:train_time,'Height(m)'].values).reshape(-1,1).to(device)\n",
        "\n",
        "x_test = torch.Tensor(data.loc[train_time+1:,'time'].values).reshape(-1,1).to(device)\n",
        "y_test = torch.Tensor(data.loc[train_time+1:,'Height(m)'].values).reshape(-1,1).to(device)"
      ],
      "metadata": {
        "id": "SQavmKwb67EM"
      },
      "execution_count": null,
      "outputs": []
    },
    {
      "cell_type": "code",
      "source": [
        "class Net(nn.Module):\n",
        "    def __init__(self):\n",
        "        super(Net, self).__init__()\n",
        "\n",
        "        self.l1 = nn.Linear(1, 50)\n",
        "        self.l2 = nn.Linear(50, 50)\n",
        "        self.l3 = nn.Linear(50, 50)\n",
        "        self.l4 = nn.Linear(50,1)\n",
        "        self .relu = nn.ReLU()\n",
        "\n",
        "    def forward(self, x):\n",
        "        x = self.l1(x)\n",
        "        x = self.relu(x)\n",
        "        x = self.l2(x)\n",
        "        x = self.relu(x)\n",
        "        x = self.l3(x)\n",
        "        x = self.relu(x)\n",
        "        x = self.l4(x)\n",
        "        return x\n"
      ],
      "metadata": {
        "id": "XLAuRI4e71DV"
      },
      "execution_count": null,
      "outputs": []
    },
    {
      "cell_type": "code",
      "source": [
        "torch.cuda.manual_seed(123)\n",
        "model = Net().to(device)\n",
        "optimizer = torch.optim.Adam(model.parameters(), lr = 0.001)"
      ],
      "metadata": {
        "id": "Xg3x0RCU8glG"
      },
      "execution_count": null,
      "outputs": []
    },
    {
      "cell_type": "code",
      "source": [
        "loss_train_record = []\n",
        "loss_test_record = []\n",
        "for epoch in range(10000):\n",
        "  optimizer.zero_grad()\n",
        "\n",
        "  preds_train = model(x_train)\n",
        "  preds_test = model(x_test)\n",
        "\n",
        "  loss_train = nn.MSELoss()(preds_train,y_train)\n",
        "  loss_test = nn.MSELoss()(preds_test,y_test)\n",
        "\n",
        "  loss_train.backward()\n",
        "  optimizer.step()\n",
        "\n",
        "  loss_train_record.append(loss_train.item())\n",
        "  loss_test_record.append(loss_test.item())\n",
        "  if epoch % 1000 == 0:\n",
        "    print(f'epoch:{epoch} loss:{loss_train.item()}, loss_valid:{loss_test.item()}')"
      ],
      "metadata": {
        "colab": {
          "base_uri": "https://localhost:8080/"
        },
        "id": "8XCOc5ym8qYM",
        "outputId": "8f4e8d7a-5c18-4b09-9a10-0db5f9665f19"
      },
      "execution_count": null,
      "outputs": [
        {
          "output_type": "stream",
          "name": "stdout",
          "text": [
            "epoch:0 loss:808866.1875, loss_valid:181397.140625\n",
            "epoch:1000 loss:379.4808654785156, loss_valid:366865.4375\n",
            "epoch:2000 loss:181.9732208251953, loss_valid:337367.46875\n",
            "epoch:3000 loss:50.02219009399414, loss_valid:278154.1875\n",
            "epoch:4000 loss:14.873496055603027, loss_valid:243770.203125\n",
            "epoch:5000 loss:5.755492210388184, loss_valid:216927.515625\n",
            "epoch:6000 loss:1.637254238128662, loss_valid:194277.78125\n",
            "epoch:7000 loss:1.1663835048675537, loss_valid:189656.046875\n",
            "epoch:8000 loss:1.0649218559265137, loss_valid:189750.40625\n",
            "epoch:9000 loss:0.9392520189285278, loss_valid:189693.203125\n"
          ]
        }
      ]
    },
    {
      "cell_type": "code",
      "source": [
        "plt.plot(loss_train_record,'b',label='train_error')\n",
        "plt.plot(loss_test_record,'r',label='test_error')\n",
        "plt.legend()\n",
        "plt.show()"
      ],
      "metadata": {
        "colab": {
          "base_uri": "https://localhost:8080/",
          "height": 445
        },
        "id": "sHa2dcQG9oZe",
        "outputId": "f4f74822-8e1f-44ab-f8b0-44330a138f95"
      },
      "execution_count": null,
      "outputs": [
        {
          "output_type": "display_data",
          "data": {
            "text/plain": [
              "<Figure size 640x480 with 1 Axes>"
            ],
            "image/png": "[encoded data removed]"
          },
          "metadata": {}
        }
      ]
    },
    {
      "cell_type": "code",
      "source": [
        "with torch.no_grad():\n",
        "  plt.plot(data['time'],data['Height(m)'],'*',color='black',label='Real_data')\n",
        "  plt.plot(x_train.cpu(),preds_train.cpu(),color='blue',label='Predicted_train')\n",
        "  plt.plot(x_test.cpu(),preds_test.cpu(),color='red',label='Predicted_test')\n",
        "  plt.legend(loc = 'upper right')\n"
      ],
      "metadata": {
        "colab": {
          "base_uri": "https://localhost:8080/",
          "height": 430
        },
        "id": "1Y7dCMqO91Mt",
        "outputId": "07d9646e-fbee-40b7-e082-e5650e78599f"
      },
      "execution_count": null,
      "outputs": [
        {
          "output_type": "display_data",
          "data": {
            "text/plain": [
              "<Figure size 640x480 with 1 Axes>"
            ],
            "image/png": "[encoded data removed]"
          },
          "metadata": {}
        }
      ]
    },
    {
      "cell_type": "code",
      "source": [
        "def ODE(t):\n",
        "  return -9.8*t"
      ],
      "metadata": {
        "id": "sF2w-zNm-jid"
      },
      "execution_count": null,
      "outputs": []
    },
    {
      "cell_type": "code",
      "source": [
        "x_H0=torch.Tensor([0])\n",
        "y_H0=torch.Tensor([1000])"
      ],
      "metadata": {
        "id": "T9dnsbG-Axvd"
      },
      "execution_count": null,
      "outputs": []
    },
    {
      "cell_type": "code",
      "source": [
        "time_start = data.loc[0,'time']\n",
        "time_end = data.loc[len(data)-1,'time']\n",
        "\n",
        "N_colloc = 1000\n",
        "\n",
        "X_colloc = torch.rand(N_colloc,1)*(time_end-time_start)+time_start"
      ],
      "metadata": {
        "id": "pgUGPiUUA6Yc"
      },
      "execution_count": null,
      "outputs": []
    },
    {
      "cell_type": "code",
      "source": [
        "X_colloc=X_colloc.to(device)\n",
        "x_H0=x_H0.to(device)\n",
        "y_H0=y_H0.to(device)"
      ],
      "metadata": {
        "id": "W4dazbbgBeGs"
      },
      "execution_count": null,
      "outputs": []
    },
    {
      "cell_type": "code",
      "source": [
        "class PINN_test(nn.Module):\n",
        "    def __init__(self):\n",
        "        super().__init__()\n",
        "        self.tanh = nn.Tanh()\n",
        "        self.l1 = nn.Linear(1,50)\n",
        "        self.l2 = nn.Linear(50, 50)\n",
        "        self.l3 = nn.Linear(50, 50)\n",
        "        self.l4 = nn.Linear(50, 1)\n",
        "\n",
        "    def forward(self, x):\n",
        "        x = self.l1(x)\n",
        "        x = self.tanh(x)\n",
        "        x = self.l2(x)\n",
        "        x = self.tanh(x)\n",
        "        x = self.l3(x)\n",
        "        x = self.tanh(x)\n",
        "        x = self.l4(x)\n",
        "        return x"
      ],
      "metadata": {
        "id": "dsdCUQovBofd"
      },
      "execution_count": null,
      "outputs": []
    },
    {
      "cell_type": "code",
      "source": [
        "torch.cuda.manual_seed(123)\n",
        "model_P = PINN_test().to(device)\n",
        "optimizer_P = torch.optim.Adam(model_P.parameters(), lr = 0.005)"
      ],
      "metadata": {
        "id": "nS_YtoY_CPB9"
      },
      "execution_count": null,
      "outputs": []
    },
    {
      "cell_type": "code",
      "source": [
        "loss_train_P=[]\n",
        "loss_test_P=[]\n",
        "for epoch in range(30000):\n",
        "    loss_BC=nn.MSELoss()(model_P.forward(x_H0),y_H0)\n",
        "    X_colloc.requires_grad=True\n",
        "    f=model_P.forward(X_colloc)\n",
        "    f_x=torch.autograd.grad(f,X_colloc,torch.ones([X_colloc.shape[0],1]).to(device),\n",
        "                      retain_graph=True, create_graph=True)[0]\n",
        "    loss_ODE=nn.MSELoss()(f_x,ODE(X_colloc))\n",
        "    loss_Data=nn.MSELoss()(model_P.forward(x_train),y_train)\n",
        "\n",
        "loss = loss_BC + loss_ODE + loss_Data\n",
        "loss_test = nn.MSELoss()(model_P.forward(x_test),y_test)\n",
        "optimizer_P.zero_grad()\n",
        "loss.backward()\n",
        "optimizer_P.step()\n",
        "\n",
        "loss_train_P.append(loss.item())\n",
        "loss_test_P.append(loss_test.item())\n",
        "if epoch % 1000 == 0:\n",
        "  print(f'epoch:{epoch} loss:{loss.item()}, loss_valid:{loss_test.item()}')\n",
        "\n"
      ],
      "metadata": {
        "id": "mOcb5mU0Ce5c"
      },
      "execution_count": null,
      "outputs": []
    }
  ]
}